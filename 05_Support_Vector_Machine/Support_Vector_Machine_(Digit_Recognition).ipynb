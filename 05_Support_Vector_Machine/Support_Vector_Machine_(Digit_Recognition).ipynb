{
  "cells": [
    {
      "cell_type": "markdown",
      "metadata": {
        "colab_type": "text",
        "id": "HFenp3yV-gcO"
      },
      "source": [
        "## **Support Vector Machine (SVM)**\n",
        "\n",
        "A support vector machine (SVM) is a supervised machine learning model that uses classification algorithms for two-group classification problems. After giving an SVM model sets of labeled training data for each category, they're able to categorize new text.\n"
      ]
    },
    {
      "cell_type": "markdown",
      "metadata": {
        "colab_type": "text",
        "id": "EkXtM692ev1u"
      },
      "source": [
        "## **Importing libraries**\n"
      ]
    },
    {
      "cell_type": "code",
      "execution_count": 1,
      "metadata": {
        "colab": {},
        "colab_type": "code",
        "id": "hewapbOjdYLB"
      },
      "outputs": [],
      "source": [
        "import numpy as np\n",
        "import pandas as pd\n",
        "import matplotlib.pyplot as plt\n",
        "import matplotlib.cm as cm\n",
        "from sklearn import svm, datasets, metrics\n",
        "from sklearn.model_selection import train_test_split\n",
        "from sklearn.metrics import accuracy_score"
      ]
    },
    {
      "cell_type": "markdown",
      "metadata": {
        "colab_type": "text",
        "id": "PsAOn1BiC-_o"
      },
      "source": [
        "### **Digits Loading**\n",
        "\n",
        "Loading data from sklearn datasets"
      ]
    },
    {
      "cell_type": "code",
      "execution_count": 2,
      "metadata": {
        "colab": {},
        "colab_type": "code",
        "id": "6djJF7NEAx_I"
      },
      "outputs": [],
      "source": [
        "digits = datasets.load_digits()\n",
        "#print(digits)\n",
        "images_and_labels = list(zip(digits.images,digits.target))"
      ]
    },
    {
      "cell_type": "markdown",
      "metadata": {
        "colab_type": "text",
        "id": "N0c60VUJEfr-"
      },
      "source": [
        "## **Flattening the Images**\n",
        "\n",
        "To apply a classifier on this data, we need to flatten the images to turn the data into (samples, features) matrix."
      ]
    },
    {
      "cell_type": "code",
      "execution_count": 3,
      "metadata": {
        "colab": {},
        "colab_type": "code",
        "id": "pwLzYvYWBQcQ"
      },
      "outputs": [],
      "source": [
        "n_samples = len(digits.images)\n",
        "data = digits.images.reshape((n_samples, -1))"
      ]
    },
    {
      "cell_type": "markdown",
      "metadata": {
        "colab_type": "text",
        "id": "nHxk6jzYLx0m"
      },
      "source": [
        "## **Training the Model**\n",
        "\n",
        "We are using SVM model as imported from sklearn library and then it's being trained on 75% of the digits."
      ]
    },
    {
      "cell_type": "code",
      "execution_count": 7,
      "metadata": {
        "colab": {},
        "colab_type": "code",
        "id": "1eAhZM71COWr"
      },
      "outputs": [],
      "source": [
        "trainTestSplit = int(n_samples*0.75)\n",
        "model = svm.SVC()\n",
        "model.fit(data[:trainTestSplit], digits.target[:trainTestSplit])\n",
        "target = digits.target[trainTestSplit:]\n",
        "predictions = model.predict(data[trainTestSplit:])"
      ]
    },
    {
      "cell_type": "markdown",
      "metadata": {
        "colab_type": "text",
        "id": "tFBsaZpeMdIa"
      },
      "source": [
        "## **Printing an Error Matrix and Accuracy Score**"
      ]
    },
    {
      "cell_type": "code",
      "execution_count": 5,
      "metadata": {
        "colab": {
          "base_uri": "https://localhost:8080/",
          "height": 210
        },
        "colab_type": "code",
        "id": "urqzo3v7MzYp",
        "outputId": "236c2b2d-6eb7-4994-ed81-2a1b917f87aa"
      },
      "outputs": [
        {
          "name": "stdout",
          "output_type": "stream",
          "text": [
            "[[42  0  0  0  1  0  0  0  0  0]\n",
            " [ 0 46  0  0  0  0  0  0  0  0]\n",
            " [ 0  0 43  0  0  0  0  0  0  0]\n",
            " [ 0  0  0 37  0  2  0  2  6  0]\n",
            " [ 0  0  0  0 45  0  0  0  1  2]\n",
            " [ 0  0  0  0  0 44  1  0  0  0]\n",
            " [ 0  0  0  0  0  0 47  0  0  0]\n",
            " [ 0  0  0  0  0  0  0 44  1  0]\n",
            " [ 0  2  0  0  0  0  0  0 38  1]\n",
            " [ 0  0  0  1  0  1  0  1  1 41]]\n",
            "0.9488888888888889\n"
          ]
        }
      ],
      "source": [
        "print(metrics.confusion_matrix(target,predictions))\n",
        "print(accuracy_score(target,predictions))"
      ]
    },
    {
      "cell_type": "markdown",
      "metadata": {
        "colab_type": "text",
        "id": "5E1tYLLJJRSB"
      },
      "source": [
        "## **Testing**"
      ]
    },
    {
      "cell_type": "code",
      "execution_count": 6,
      "metadata": {
        "colab": {
          "base_uri": "https://localhost:8080/",
          "height": 282
        },
        "colab_type": "code",
        "id": "6VDPd6RDJqxf",
        "outputId": "3f17080d-fda6-40fa-bd60-95375186d3cd"
      },
      "outputs": [
        {
          "name": "stdout",
          "output_type": "stream",
          "text": [
            "Prediction for test image: [8]\n"
          ]
        },
        {
          "data": {
            "image/png": "[encoded data removed]",
            "text/plain": [
              "<Figure size 640x480 with 1 Axes>"
            ]
          },
          "metadata": {},
          "output_type": "display_data"
        }
      ],
      "source": [
        "plt.imshow(digits.images[-3], cmap = plt.cm.gray_r, interpolation = \"nearest\")\n",
        "print(\"Prediction for test image:\", model.predict(data[-3].reshape(1,-1)))\n",
        "\n",
        "plt.show()"
      ]
    }
  ],
  "metadata": {
    "colab": {
      "collapsed_sections": [],
      "name": "Copy of Support_Vector_Machine (Digit_Recognition).ipynb",
      "provenance": []
    },
    "kernelspec": {
      "display_name": "Python 3",
      "name": "python3"
    },
    "language_info": {
      "codemirror_mode": {
        "name": "ipython",
        "version": 3
      },
      "file_extension": ".py",
      "mimetype": "text/x-python",
      "name": "python",
      "nbconvert_exporter": "python",
      "pygments_lexer": "ipython3",
      "version": "3.11.5"
    }
  },
  "nbformat": 4,
  "nbformat_minor": 0
}
