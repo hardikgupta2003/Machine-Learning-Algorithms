{
  "cells": [
    {
      "cell_type": "markdown",
      "metadata": {
        "colab_type": "text",
        "id": "7AqXLpH1eh0r"
      },
      "source": [
        "# **k-nearest neighbors algorithm**\n",
        "\n",
        "In pattern recognition, the k-nearest neighbors algorithm is a non-parametric method used for classification and regression. In both cases, the input consists of the k closest training examples in the feature space.\n",
        "\n"
      ]
    },
    {
      "cell_type": "markdown",
      "metadata": {
        "colab_type": "text",
        "id": "EkXtM692ev1u"
      },
      "source": [
        "## **Importing libraries**\n",
        "\n",
        "We will import NumPy as np, Pandas as *pd*, train_test_split & cross_val_score from sklearn.model_selection, confusion_matrix & accuracy_score from sklearn.metrics, KNeighborsClassifier from sklearn.neighbors and preprocessing  from sklearn."
      ]
    },
    {
      "cell_type": "code",
      "execution_count": 7,
      "metadata": {
        "colab": {},
        "colab_type": "code",
        "id": "hewapbOjdYLB"
      },
      "outputs": [],
      "source": [
        "import pandas as pd\n",
        "import numpy as np\n",
        "from sklearn.neighbors import KNeighborsClassifier\n",
        "from sklearn.model_selection import train_test_split\n",
        "from sklearn.model_selection import cross_val_score\n",
        "from sklearn.metrics import confusion_matrix\n",
        "from sklearn.metrics import accuracy_score\n",
        "from sklearn import preprocessing"
      ]
    },
    {
      "cell_type": "markdown",
      "metadata": {
        "colab_type": "text",
        "id": "PsAOn1BiC-_o"
      },
      "source": [
        "## **DataFraming**\n",
        "\n",
        "Read .csv data into a Dataframe "
      ]
    },
    {
      "cell_type": "code",
      "execution_count": 8,
      "metadata": {
        "colab": {
          "base_uri": "https://localhost:8080/",
          "height": 439
        },
        "colab_type": "code",
        "id": "A9gmwPuuDTq7",
        "outputId": "a25c3145-3b50-4fa2-c8c0-d83e4168d343"
      },
      "outputs": [
        {
          "name": "stdout",
          "output_type": "stream",
          "text": [
            "   clientid        income        age         loan       LTI  default\n",
            "0         1  66155.925095  59.017015  8106.532131  0.122537        0\n",
            "1         2  34415.153966  48.117153  6564.745018  0.190752        0\n",
            "2         3  57317.170063  63.108049  8020.953296  0.139940        0\n",
            "3         4  42709.534201  45.751972  6103.642260  0.142911        0\n",
            "4         5  66952.688845  18.584336  8770.099235  0.130989        1\n",
            "          clientid        income          age          loan          LTI  \\\n",
            "count  2000.000000   2000.000000  2000.000000   2000.000000  2000.000000   \n",
            "mean   1000.500000  45331.600018    40.927143   4444.369695     0.098403   \n",
            "std     577.494589  14326.327119    13.262450   3045.410024     0.057620   \n",
            "min       1.000000  20014.489470    18.055189      1.377630     0.000049   \n",
            "25%     500.750000  32796.459717    29.062492   1939.708847     0.047903   \n",
            "50%    1000.500000  45789.117313    41.382673   3974.719419     0.099437   \n",
            "75%    1500.250000  57791.281668    52.596993   6432.410625     0.147585   \n",
            "max    2000.000000  69995.685578    63.971796  13766.051239     0.199938   \n",
            "\n",
            "           default  \n",
            "count  2000.000000  \n",
            "mean      0.141500  \n",
            "std       0.348624  \n",
            "min       0.000000  \n",
            "25%       0.000000  \n",
            "50%       0.000000  \n",
            "75%       0.000000  \n",
            "max       1.000000  \n",
            "          clientid    income       age      loan       LTI   default\n",
            "clientid  1.000000  0.039280 -0.030341  0.018931  0.002538 -0.020145\n",
            "income    0.039280  1.000000 -0.034984  0.441117 -0.019862  0.002284\n",
            "age      -0.030341 -0.034984  1.000000  0.006561  0.021588 -0.444765\n",
            "loan      0.018931  0.441117  0.006561  1.000000  0.847495  0.377160\n",
            "LTI       0.002538 -0.019862  0.021588  0.847495  1.000000  0.433261\n",
            "default  -0.020145  0.002284 -0.444765  0.377160  0.433261  1.000000\n"
          ]
        }
      ],
      "source": [
        "data = pd.read_csv(\"credit_data.csv\")\n",
        "print(data.head())\n",
        "print(data.describe())\n",
        "print(data.corr())"
      ]
    },
    {
      "cell_type": "markdown",
      "metadata": {
        "colab_type": "text",
        "id": "N0c60VUJEfr-"
      },
      "source": [
        "## **Features Extraction**\n",
        "\n",
        "Extracting features and splitting data into test and train."
      ]
    },
    {
      "cell_type": "code",
      "execution_count": 9,
      "metadata": {
        "colab": {
          "base_uri": "https://localhost:8080/",
          "height": 107
        },
        "colab_type": "code",
        "id": "X4X2kjPahc0V",
        "outputId": "8578c424-511f-48fd-870a-20a87293bf4d"
      },
      "outputs": [
        {
          "name": "stderr",
          "output_type": "stream",
          "text": [
            "C:\\Users\\alefi\\AppData\\Local\\Temp\\ipykernel_11936\\1051693922.py:1: UserWarning: Pandas doesn't allow columns to be created via a new attribute name - see https://pandas.pydata.org/pandas-docs/stable/indexing.html#attribute-access\n",
            "  data.features = data[[\"income\",\"age\",\"loan\"]]\n",
            "C:\\Users\\alefi\\AppData\\Local\\Temp\\ipykernel_11936\\1051693922.py:2: UserWarning: Pandas doesn't allow columns to be created via a new attribute name - see https://pandas.pydata.org/pandas-docs/stable/indexing.html#attribute-access\n",
            "  data.target = data.default\n"
          ]
        }
      ],
      "source": [
        "data.features = data[[\"income\",\"age\",\"loan\"]]\n",
        "data.target = data.default\n",
        "\n",
        "data.features = preprocessing.MinMaxScaler().fit_transform(data.features)\n",
        "\n",
        "feature_train, feature_test, target_train, target_test = train_test_split(data.features,data.target)"
      ]
    },
    {
      "cell_type": "markdown",
      "metadata": {
        "colab_type": "text",
        "id": "nHxk6jzYLx0m"
      },
      "source": [
        "## **Training the Model**\n",
        "\n",
        "We are using KNeighborsClassifier model as imported from sklearn.neighbors library and then it's being trained on feature_train and target_train"
      ]
    },
    {
      "cell_type": "code",
      "execution_count": 10,
      "metadata": {
        "colab": {},
        "colab_type": "code",
        "id": "zcVLyHh3L5Rv"
      },
      "outputs": [],
      "source": [
        "model = KNeighborsClassifier(n_neighbors=32)\n",
        "fitModel = model.fit(feature_train, target_train)\n",
        "predictions = fitModel.predict(feature_test)"
      ]
    },
    {
      "cell_type": "markdown",
      "metadata": {
        "colab_type": "text",
        "id": "MldzyDb_kWJt"
      },
      "source": [
        "## **Finding Optimal K Value**\n",
        "\n",
        "We are going to use cross-validation in order to find the optimal k value. This optimal value is not going to have as good accuracy and precision as we have seen for any neighbors close to ***n*** but it is going to be much more realistic because we use cross-validation. So we are going to use the cross-validation scores and then we are going to make a simple iteration. Basically we are going to consider k values from 1 up to 100.\n"
      ]
    },
    {
      "cell_type": "code",
      "execution_count": 11,
      "metadata": {
        "colab": {
          "base_uri": "https://localhost:8080/",
          "height": 34
        },
        "colab_type": "code",
        "id": "MMj7k6ETlAmD",
        "outputId": "f37a8951-0e7a-4499-d3a0-ef1f62acd9bb"
      },
      "outputs": [
        {
          "name": "stdout",
          "output_type": "stream",
          "text": [
            "Optimal k with cross-validation: \t 32\n"
          ]
        }
      ],
      "source": [
        "cross_valid_scores = []\n",
        "\n",
        "for k in range(1, 100):\n",
        "  knn = KNeighborsClassifier(n_neighbors = k)\n",
        "  scores = cross_val_score(knn,data.features, data.target, cv = 10, scoring = 'accuracy')\n",
        "  cross_valid_scores.append(scores.mean())\n",
        "\n",
        "print(\"Optimal k with cross-validation: \\t\",np.argmax(cross_valid_scores))"
      ]
    },
    {
      "cell_type": "markdown",
      "metadata": {
        "colab_type": "text",
        "id": "tFBsaZpeMdIa"
      },
      "source": [
        "## **Printing an Error Matrix and Accuracy Score**"
      ]
    },
    {
      "cell_type": "code",
      "execution_count": 12,
      "metadata": {
        "colab": {
          "base_uri": "https://localhost:8080/",
          "height": 70
        },
        "colab_type": "code",
        "id": "urqzo3v7MzYp",
        "outputId": "fd356366-5a2d-4b70-bad5-1ebda9f26903"
      },
      "outputs": [
        {
          "name": "stdout",
          "output_type": "stream",
          "text": [
            "[[423   2]\n",
            " [ 14  61]]\n",
            "0.968\n"
          ]
        }
      ],
      "source": [
        "print(confusion_matrix(target_test,predictions))\n",
        "print(accuracy_score(target_test,predictions))"
      ]
    }
  ],
  "metadata": {
    "colab": {
      "collapsed_sections": [],
      "name": "KNN Classifier.ipynb",
      "provenance": []
    },
    "kernelspec": {
      "display_name": "Python 3",
      "name": "python3"
    },
    "language_info": {
      "codemirror_mode": {
        "name": "ipython",
        "version": 3
      },
      "file_extension": ".py",
      "mimetype": "text/x-python",
      "name": "python",
      "nbconvert_exporter": "python",
      "pygments_lexer": "ipython3",
      "version": "3.11.5"
    }
  },
  "nbformat": 4,
  "nbformat_minor": 0
}
