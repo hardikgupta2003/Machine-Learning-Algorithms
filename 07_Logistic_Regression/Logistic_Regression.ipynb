{
  "cells": [
    {
      "cell_type": "markdown",
      "metadata": {
        "colab_type": "text",
        "id": "EeWekSPEB-Y-"
      },
      "source": [
        "## **Logistic Regression**\n",
        "\n",
        "Logistic regression is a statistical model that in its basic form uses a logistic function to model a binary dependent variable, although many more complex extensions exist. In regression analysis, logistic regression (or logit regression) is estimating the parameters of a logistic model (a form of binary regression).\n",
        "\n",
        "For Example: spam detection for emails, predicting if a customer will default in a loan, etc.\n",
        "\n"
      ]
    },
    {
      "cell_type": "markdown",
      "metadata": {
        "colab_type": "text",
        "id": "fRehRCOpBXAB"
      },
      "source": [
        "## **Importing libraries**\n",
        "\n",
        "We will import Pandas as *pd*, train_test_split from sklearn.model_selection, confusion_matrix & accuracy_score from sklearn.metrics and Logistic Regression from sklearn.linear_model.   "
      ]
    },
    {
      "cell_type": "code",
      "execution_count": 1,
      "metadata": {
        "colab": {},
        "colab_type": "code",
        "id": "j1UhjdP0B6m7"
      },
      "outputs": [],
      "source": [
        "import pandas as pd\n",
        "from sklearn.linear_model import LogisticRegression\n",
        "from sklearn.model_selection import train_test_split\n",
        "from sklearn.metrics import confusion_matrix\n",
        "from sklearn.metrics import accuracy_score"
      ]
    },
    {
      "cell_type": "markdown",
      "metadata": {
        "colab_type": "text",
        "id": "PsAOn1BiC-_o"
      },
      "source": [
        "## **DataFraming**\n",
        "\n",
        "Read .csv data into a Dataframe "
      ]
    },
    {
      "cell_type": "code",
      "execution_count": 2,
      "metadata": {
        "colab": {
          "base_uri": "https://localhost:8080/",
          "height": 527
        },
        "colab_type": "code",
        "id": "A9gmwPuuDTq7",
        "outputId": "3c95a830-36ec-4651-dc88-43de30614140"
      },
      "outputs": [
        {
          "name": "stdout",
          "output_type": "stream",
          "text": [
            "   Survived  Pclass  Sex   Age  Siblings/Spouses Aboard  \\\n",
            "0         0       3    1  22.0                        1   \n",
            "1         1       1    0  38.0                        1   \n",
            "2         1       3    0  26.0                        0   \n",
            "3         1       1    0  35.0                        1   \n",
            "4         0       3    1  35.0                        0   \n",
            "\n",
            "   Parents/Children Aboard     Fare  \n",
            "0                        0   7.2500  \n",
            "1                        0  71.2833  \n",
            "2                        0   7.9250  \n",
            "3                        0  53.1000  \n",
            "4                        0   8.0500  \n",
            "         Survived      Pclass         Sex         Age  \\\n",
            "count  887.000000  887.000000  887.000000  887.000000   \n",
            "mean     0.385569    2.305524    0.645998   29.471443   \n",
            "std      0.487004    0.836662    0.478480   14.121908   \n",
            "min      0.000000    1.000000    0.000000    0.420000   \n",
            "25%      0.000000    2.000000    0.000000   20.250000   \n",
            "50%      0.000000    3.000000    1.000000   28.000000   \n",
            "75%      1.000000    3.000000    1.000000   38.000000   \n",
            "max      1.000000    3.000000    1.000000   80.000000   \n",
            "\n",
            "       Siblings/Spouses Aboard  Parents/Children Aboard       Fare  \n",
            "count               887.000000               887.000000  887.00000  \n",
            "mean                  0.525366                 0.383315   32.30542  \n",
            "std                   1.104669                 0.807466   49.78204  \n",
            "min                   0.000000                 0.000000    0.00000  \n",
            "25%                   0.000000                 0.000000    7.92500  \n",
            "50%                   0.000000                 0.000000   14.45420  \n",
            "75%                   1.000000                 0.000000   31.13750  \n",
            "max                   8.000000                 6.000000  512.32920  \n",
            "                         Survived    Pclass       Sex       Age  \\\n",
            "Survived                 1.000000 -0.336528 -0.542152 -0.059665   \n",
            "Pclass                  -0.336528  1.000000  0.129507 -0.391492   \n",
            "Sex                     -0.542152  0.129507  1.000000  0.091875   \n",
            "Age                     -0.059665 -0.391492  0.091875  1.000000   \n",
            "Siblings/Spouses Aboard -0.037082  0.085026 -0.113249 -0.297669   \n",
            "Parents/Children Aboard  0.080097  0.020252 -0.244337 -0.193741   \n",
            "Fare                     0.256179 -0.548919 -0.181137  0.112329   \n",
            "\n",
            "                         Siblings/Spouses Aboard  Parents/Children Aboard  \\\n",
            "Survived                               -0.037082                 0.080097   \n",
            "Pclass                                  0.085026                 0.020252   \n",
            "Sex                                    -0.113249                -0.244337   \n",
            "Age                                    -0.297669                -0.193741   \n",
            "Siblings/Spouses Aboard                 1.000000                 0.414244   \n",
            "Parents/Children Aboard                 0.414244                 1.000000   \n",
            "Fare                                    0.158839                 0.215470   \n",
            "\n",
            "                             Fare  \n",
            "Survived                 0.256179  \n",
            "Pclass                  -0.548919  \n",
            "Sex                     -0.181137  \n",
            "Age                      0.112329  \n",
            "Siblings/Spouses Aboard  0.158839  \n",
            "Parents/Children Aboard  0.215470  \n",
            "Fare                     1.000000  \n"
          ]
        }
      ],
      "source": [
        "creditData = pd.read_csv(\"./titanic.xls\")\n",
        "print(creditData.head())\n",
        "print(creditData.describe())\n",
        "print(creditData.corr())"
      ]
    },
    {
      "cell_type": "markdown",
      "metadata": {
        "colab_type": "text",
        "id": "N0c60VUJEfr-"
      },
      "source": [
        "## **Features Extraction**\n",
        "\n",
        "Extracting features and splitting data into test and train."
      ]
    },
    {
      "cell_type": "code",
      "execution_count": 3,
      "metadata": {
        "colab": {},
        "colab_type": "code",
        "id": "2KYihcjTE067"
      },
      "outputs": [],
      "source": [
        "features = creditData[[\"Sex\",\"Age\",\"Pclass\"]]\n",
        "target = creditData[[\"Survived\"]]\n",
        "\n",
        "feature_train, feature_test, target_train, target_test = train_test_split(features,target)"
      ]
    },
    {
      "cell_type": "markdown",
      "metadata": {
        "colab_type": "text",
        "id": "nHxk6jzYLx0m"
      },
      "source": [
        "## **Training the Model**\n",
        "\n",
        "We are using Logistic regression model as imported from sklearn library and then it's being trained on feature_train and target_train"
      ]
    },
    {
      "cell_type": "code",
      "execution_count": 4,
      "metadata": {
        "colab": {
          "base_uri": "https://localhost:8080/",
          "height": 72
        },
        "colab_type": "code",
        "id": "zcVLyHh3L5Rv",
        "outputId": "3e52b837-ceab-4b49-e0dc-025588880736"
      },
      "outputs": [
        {
          "name": "stderr",
          "output_type": "stream",
          "text": [
            "c:\\Users\\alefi\\anaconda3\\Lib\\site-packages\\sklearn\\utils\\validation.py:1184: DataConversionWarning: A column-vector y was passed when a 1d array was expected. Please change the shape of y to (n_samples, ), for example using ravel().\n",
            "  y = column_or_1d(y, warn=True)\n"
          ]
        }
      ],
      "source": [
        "model = LogisticRegression()\n",
        "model.fit = model.fit(feature_train, target_train)\n",
        "predictions = model.fit.predict(feature_test)"
      ]
    },
    {
      "cell_type": "markdown",
      "metadata": {
        "colab_type": "text",
        "id": "tFBsaZpeMdIa"
      },
      "source": [
        "## **Printing an Error Matrix and Accuracy Score**"
      ]
    },
    {
      "cell_type": "code",
      "execution_count": 5,
      "metadata": {
        "colab": {
          "base_uri": "https://localhost:8080/",
          "height": 70
        },
        "colab_type": "code",
        "id": "urqzo3v7MzYp",
        "outputId": "4c38340a-d31e-4d14-ec18-2d22ab6b47a4"
      },
      "outputs": [
        {
          "name": "stdout",
          "output_type": "stream",
          "text": [
            "[[118  27]\n",
            " [ 21  56]]\n",
            "0.7837837837837838\n"
          ]
        }
      ],
      "source": [
        "print(confusion_matrix(target_test,predictions))\n",
        "print(accuracy_score(target_test,predictions))"
      ]
    }
  ],
  "metadata": {
    "colab": {
      "collapsed_sections": [],
      "name": "Logistic Regression.ipynb",
      "provenance": []
    },
    "kernelspec": {
      "display_name": "Python 3",
      "name": "python3"
    },
    "language_info": {
      "codemirror_mode": {
        "name": "ipython",
        "version": 3
      },
      "file_extension": ".py",
      "mimetype": "text/x-python",
      "name": "python",
      "nbconvert_exporter": "python",
      "pygments_lexer": "ipython3",
      "version": "3.11.5"
    }
  },
  "nbformat": 4,
  "nbformat_minor": 0
}
